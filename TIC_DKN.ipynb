{
  "cells": [
    {
      "cell_type": "markdown",
      "metadata": {
        "id": "view-in-github",
        "colab_type": "text"
      },
      "source": [
        "<a href=\"https://colab.research.google.com/github/jahirxtrap/TIC_DKN_CORE_Dataset/blob/master/TIC_DKN.ipynb\" target=\"_parent\"><img src=\"https://colab.research.google.com/assets/colab-badge.svg\" alt=\"Open In Colab\"/></a>"
      ]
    },
    {
      "cell_type": "markdown",
      "metadata": {
        "id": "xgzjFnE5J1GT"
      },
      "source": [
        "# Trabajo de Integración Curricular"
      ]
    },
    {
      "cell_type": "markdown",
      "metadata": {
        "id": "960y1IRtJ9Gv"
      },
      "source": [
        "## Librerías y rutas"
      ]
    },
    {
      "cell_type": "code",
      "execution_count": 1,
      "metadata": {
        "colab": {
          "base_uri": "https://localhost:8080/"
        },
        "collapsed": true,
        "id": "3MVPNMxbXMYH",
        "outputId": "0d925bac-b2bd-4ec2-86d4-5cb783a9c088"
      },
      "outputs": [
        {
          "output_type": "stream",
          "name": "stdout",
          "text": [
            "\u001b[2K     \u001b[90m━━━━━━━━━━━━━━━━━━━━━━━━━━━━━━━━━━━━━━━━\u001b[0m \u001b[32m51.4/51.4 kB\u001b[0m \u001b[31m1.7 MB/s\u001b[0m eta \u001b[36m0:00:00\u001b[0m\n",
            "\u001b[2K     \u001b[90m━━━━━━━━━━━━━━━━━━━━━━━━━━━━━━━━━━━━━━━\u001b[0m \u001b[32m154.4/154.4 kB\u001b[0m \u001b[31m5.3 MB/s\u001b[0m eta \u001b[36m0:00:00\u001b[0m\n",
            "\u001b[?25h  Installing build dependencies ... \u001b[?25l\u001b[?25hdone\n",
            "  Getting requirements to build wheel ... \u001b[?25l\u001b[?25hdone\n",
            "  Preparing metadata (pyproject.toml) ... \u001b[?25l\u001b[?25hdone\n",
            "\u001b[2K     \u001b[90m━━━━━━━━━━━━━━━━━━━━━━━━━━━━━━━━━━━━━━━━\u001b[0m \u001b[32m44.4/44.4 kB\u001b[0m \u001b[31m2.6 MB/s\u001b[0m eta \u001b[36m0:00:00\u001b[0m\n",
            "\u001b[2K   \u001b[90m━━━━━━━━━━━━━━━━━━━━━━━━━━━━━━━━━━━━━━━━\u001b[0m \u001b[32m355.3/355.3 kB\u001b[0m \u001b[31m13.6 MB/s\u001b[0m eta \u001b[36m0:00:00\u001b[0m\n",
            "\u001b[2K   \u001b[90m━━━━━━━━━━━━━━━━━━━━━━━━━━━━━━━━━━━━━━━━\u001b[0m \u001b[32m85.7/85.7 kB\u001b[0m \u001b[31m5.1 MB/s\u001b[0m eta \u001b[36m0:00:00\u001b[0m\n",
            "\u001b[2K   \u001b[90m━━━━━━━━━━━━━━━━━━━━━━━━━━━━━━━━━━━━━━━━\u001b[0m \u001b[32m31.5/31.5 MB\u001b[0m \u001b[31m57.1 MB/s\u001b[0m eta \u001b[36m0:00:00\u001b[0m\n",
            "\u001b[2K   \u001b[90m━━━━━━━━━━━━━━━━━━━━━━━━━━━━━━━━━━━━━━━━\u001b[0m \u001b[32m2.3/2.3 MB\u001b[0m \u001b[31m67.4 MB/s\u001b[0m eta \u001b[36m0:00:00\u001b[0m\n",
            "\u001b[2K   \u001b[90m━━━━━━━━━━━━━━━━━━━━━━━━━━━━━━━━━━━━━━━━\u001b[0m \u001b[32m267.1/267.1 kB\u001b[0m \u001b[31m14.8 MB/s\u001b[0m eta \u001b[36m0:00:00\u001b[0m\n",
            "\u001b[2K   \u001b[90m━━━━━━━━━━━━━━━━━━━━━━━━━━━━━━━━━━━━━━━━\u001b[0m \u001b[32m6.8/6.8 MB\u001b[0m \u001b[31m71.6 MB/s\u001b[0m eta \u001b[36m0:00:00\u001b[0m\n",
            "\u001b[2K   \u001b[90m━━━━━━━━━━━━━━━━━━━━━━━━━━━━━━━━━━━━━━━━\u001b[0m \u001b[32m113.0/113.0 kB\u001b[0m \u001b[31m6.9 MB/s\u001b[0m eta \u001b[36m0:00:00\u001b[0m\n",
            "\u001b[2K   \u001b[90m━━━━━━━━━━━━━━━━━━━━━━━━━━━━━━━━━━━━━━━━\u001b[0m \u001b[32m502.6/502.6 kB\u001b[0m \u001b[31m28.2 MB/s\u001b[0m eta \u001b[36m0:00:00\u001b[0m\n",
            "\u001b[2K   \u001b[90m━━━━━━━━━━━━━━━━━━━━━━━━━━━━━━━━━━━━━━━━\u001b[0m \u001b[32m407.9/407.9 kB\u001b[0m \u001b[31m22.3 MB/s\u001b[0m eta \u001b[36m0:00:00\u001b[0m\n",
            "\u001b[2K   \u001b[90m━━━━━━━━━━━━━━━━━━━━━━━━━━━━━━━━━━━━━━━━\u001b[0m \u001b[32m77.8/77.8 kB\u001b[0m \u001b[31m5.4 MB/s\u001b[0m eta \u001b[36m0:00:00\u001b[0m\n",
            "\u001b[2K   \u001b[90m━━━━━━━━━━━━━━━━━━━━━━━━━━━━━━━━━━━━━━━━\u001b[0m \u001b[32m862.4/862.4 kB\u001b[0m \u001b[31m41.5 MB/s\u001b[0m eta \u001b[36m0:00:00\u001b[0m\n",
            "\u001b[2K   \u001b[90m━━━━━━━━━━━━━━━━━━━━━━━━━━━━━━━━━━━━━━━━\u001b[0m \u001b[32m2.9/2.9 MB\u001b[0m \u001b[31m79.0 MB/s\u001b[0m eta \u001b[36m0:00:00\u001b[0m\n",
            "\u001b[2K   \u001b[90m━━━━━━━━━━━━━━━━━━━━━━━━━━━━━━━━━━━━━━━━\u001b[0m \u001b[32m259.8/259.8 kB\u001b[0m \u001b[31m16.8 MB/s\u001b[0m eta \u001b[36m0:00:00\u001b[0m\n",
            "\u001b[2K   \u001b[90m━━━━━━━━━━━━━━━━━━━━━━━━━━━━━━━━━━━━━━━━\u001b[0m \u001b[32m1.6/1.6 MB\u001b[0m \u001b[31m56.1 MB/s\u001b[0m eta \u001b[36m0:00:00\u001b[0m\n",
            "\u001b[2K   \u001b[90m━━━━━━━━━━━━━━━━━━━━━━━━━━━━━━━━━━━━━━━━\u001b[0m \u001b[32m59.3/59.3 kB\u001b[0m \u001b[31m3.8 MB/s\u001b[0m eta \u001b[36m0:00:00\u001b[0m\n",
            "\u001b[?25h  Building wheel for scikit-surprise (pyproject.toml) ... \u001b[?25l\u001b[?25hdone\n",
            "\u001b[2K     \u001b[90m━━━━━━━━━━━━━━━━━━━━━━━━━━━━━━━━━━━━━━━━\u001b[0m \u001b[32m73.4/73.4 kB\u001b[0m \u001b[31m1.8 MB/s\u001b[0m eta \u001b[36m0:00:00\u001b[0m\n",
            "\u001b[?25h  Installing build dependencies ... \u001b[?25l\u001b[?25hdone\n",
            "  Getting requirements to build wheel ... \u001b[?25l\u001b[?25hdone\n",
            "  Preparing metadata (pyproject.toml) ... \u001b[?25l\u001b[?25hdone\n",
            "  Building wheel for fasttext (pyproject.toml) ... \u001b[?25l\u001b[?25hdone\n",
            "\u001b[2K   \u001b[90m━━━━━━━━━━━━━━━━━━━━━━━━━━━━━━━━━━━━━━━━\u001b[0m \u001b[32m1.9/1.9 MB\u001b[0m \u001b[31m20.0 MB/s\u001b[0m eta \u001b[36m0:00:00\u001b[0m\n",
            "\u001b[2K   \u001b[90m━━━━━━━━━━━━━━━━━━━━━━━━━━━━━━━━━━━━━━━━\u001b[0m \u001b[32m54.2/54.2 MB\u001b[0m \u001b[31m15.9 MB/s\u001b[0m eta \u001b[36m0:00:00\u001b[0m\n",
            "\u001b[2K   \u001b[90m━━━━━━━━━━━━━━━━━━━━━━━━━━━━━━━━━━━━━━━━\u001b[0m \u001b[32m323.1/323.1 kB\u001b[0m \u001b[31m18.1 MB/s\u001b[0m eta \u001b[36m0:00:00\u001b[0m\n",
            "\u001b[2K   \u001b[90m━━━━━━━━━━━━━━━━━━━━━━━━━━━━━━━━━━━━━━━━\u001b[0m \u001b[32m95.2/95.2 kB\u001b[0m \u001b[31m5.7 MB/s\u001b[0m eta \u001b[36m0:00:00\u001b[0m\n",
            "\u001b[2K   \u001b[90m━━━━━━━━━━━━━━━━━━━━━━━━━━━━━━━━━━━━━━━━\u001b[0m \u001b[32m11.5/11.5 MB\u001b[0m \u001b[31m68.2 MB/s\u001b[0m eta \u001b[36m0:00:00\u001b[0m\n",
            "\u001b[2K   \u001b[90m━━━━━━━━━━━━━━━━━━━━━━━━━━━━━━━━━━━━━━━━\u001b[0m \u001b[32m72.0/72.0 kB\u001b[0m \u001b[31m3.6 MB/s\u001b[0m eta \u001b[36m0:00:00\u001b[0m\n",
            "\u001b[2K   \u001b[90m━━━━━━━━━━━━━━━━━━━━━━━━━━━━━━━━━━━━━━━━\u001b[0m \u001b[32m62.5/62.5 kB\u001b[0m \u001b[31m4.4 MB/s\u001b[0m eta \u001b[36m0:00:00\u001b[0m\n",
            "\u001b[?25h"
          ]
        }
      ],
      "source": [
        "# Librerías\n",
        "!pip install recommenders --quiet\n",
        "!pip install fasttext --quiet\n",
        "!pip install faker --quiet\n",
        "!pip install gradio --quiet"
      ]
    },
    {
      "cell_type": "markdown",
      "source": [
        "### Rutas"
      ],
      "metadata": {
        "id": "lpx4vJ3FZYer"
      }
    },
    {
      "cell_type": "code",
      "source": [
        "import os\n",
        "import pandas as pd\n",
        "import numpy as np\n",
        "\n",
        "# Datos\n",
        "input_file = '/content/drive/MyDrive/TIC/data.jsonl'\n",
        "output_file = '/content/drive/MyDrive/TIC/data.csv'\n",
        "interactions_path = '/content/drive/MyDrive/TIC/interactions.csv'\n",
        "\n",
        "# Dataset\n",
        "df = pd.read_csv(output_file)\n",
        "\n",
        "# Carpeta de salida\n",
        "output_dir = \"/content/drive/MyDrive/TIC/dkn_output\"\n",
        "os.makedirs(output_dir, exist_ok=True)\n",
        "\n",
        "# Archivo para las predicciones y resultados\n",
        "predict_path = os.path.join(output_dir, \"predict.txt\")\n",
        "result_path = os.path.join(output_dir, \"result.txt\")\n",
        "\n",
        "# Ruta del modeo\n",
        "model_path = \"/content/drive/MyDrive/TIC/dkn_output/model\""
      ],
      "metadata": {
        "id": "OuTXunO2YSsj"
      },
      "execution_count": 2,
      "outputs": []
    },
    {
      "cell_type": "markdown",
      "metadata": {
        "id": "X2gI9N4dAg2b"
      },
      "source": [
        "## Ingeniería de datos"
      ]
    },
    {
      "cell_type": "code",
      "execution_count": 3,
      "metadata": {
        "colab": {
          "base_uri": "https://localhost:8080/"
        },
        "id": "2cdEJPT1e8Ix",
        "outputId": "b11d9f90-76ab-43b6-fe74-1563d0df681a"
      },
      "outputs": [
        {
          "output_type": "stream",
          "name": "stdout",
          "text": [
            "Dataset cargado correctamente con 100000 registros totales\n",
            "Se eliminaron 28079 registros con DOI duplicado\n",
            "Quedan 71921 registros únicos\n",
            "Exportando todos los 71921 registros únicos\n",
            "Archivo CSV creado exitosamente en /content/drive/MyDrive/TIC/data.csv con 71921 registros\n"
          ]
        }
      ],
      "source": [
        "import json\n",
        "import csv\n",
        "\n",
        "# Limite de datos a exportar (después de eliminar duplicados)\n",
        "limite_datos = 100000\n",
        "\n",
        "# Leer todos los datos del archivo JSONL\n",
        "try:\n",
        "    data_completa = []\n",
        "    with open(input_file, 'r', encoding='utf-8') as jsonl_file:\n",
        "        for line in jsonl_file:\n",
        "            if line.strip():\n",
        "                data_completa.append(json.loads(line.strip()))\n",
        "    print(f\"Dataset cargado correctamente con {len(data_completa)} registros totales\")\n",
        "except Exception as e:\n",
        "    print(f\"Error al leer el archivo: {e}\")\n",
        "    exit(1)\n",
        "\n",
        "# Eliminar registros con DOIs duplicados (conservando solo el primero)\n",
        "doi_seen = set()\n",
        "data_sin_duplicados = []\n",
        "duplicados_doi = 0\n",
        "\n",
        "for item in data_completa:\n",
        "    doi = item.get(\"doi\")\n",
        "    if doi and doi in doi_seen:\n",
        "        duplicados_doi += 1\n",
        "        continue\n",
        "    if doi:\n",
        "        doi_seen.add(doi)\n",
        "    data_sin_duplicados.append(item)\n",
        "\n",
        "print(f\"Se eliminaron {duplicados_doi} registros con DOI duplicado\")\n",
        "print(f\"Quedan {len(data_sin_duplicados)} registros únicos\")\n",
        "\n",
        "# Aplicar límite si es necesario\n",
        "if limite_datos > 0 and limite_datos < len(data_sin_duplicados):\n",
        "    data_final = data_sin_duplicados[:limite_datos]\n",
        "    print(f\"Exportando los primeros {limite_datos} registros únicos\")\n",
        "else:\n",
        "    data_final = data_sin_duplicados\n",
        "    print(f\"Exportando todos los {len(data_final)} registros únicos\")\n",
        "\n",
        "# Obtener encabezados únicos\n",
        "fieldnames = set()\n",
        "for item in data_final:\n",
        "    fieldnames.update(item.keys())\n",
        "fieldnames = list(fieldnames)\n",
        "\n",
        "# Escribir archivo CSV\n",
        "try:\n",
        "    with open(output_file, 'w', newline='', encoding='utf-8') as csv_file:\n",
        "        writer = csv.DictWriter(csv_file, fieldnames=fieldnames)\n",
        "        writer.writeheader()\n",
        "        for row in data_final:\n",
        "            writer.writerow(row)\n",
        "\n",
        "    print(f\"Archivo CSV creado exitosamente en {output_file} con {len(data_final)} registros\")\n",
        "except Exception as e:\n",
        "    print(f\"Error al escribir el archivo CSV: {e}\")"
      ]
    },
    {
      "cell_type": "code",
      "source": [
        "# Gráfica\n",
        "import matplotlib.pyplot as plt\n",
        "\n",
        "# Datos para la gráfica\n",
        "labels = ['Duplicados', 'Únicos']\n",
        "sizes = [duplicados_doi, len(data_sin_duplicados)]\n",
        "colors = ['#ff9999', '#66b3ff']\n",
        "\n",
        "# Función personalizada para mostrar porcentaje y cantidad\n",
        "def autopct_func(pct, all_vals):\n",
        "    absolute = int(round(pct / 100. * sum(all_vals)))\n",
        "    return f'{pct:.1f}%\\n({absolute})'\n",
        "\n",
        "plt.figure(figsize=(6, 6))\n",
        "plt.pie(sizes, labels=labels, colors=colors,\n",
        "        autopct=lambda pct: autopct_func(pct, sizes),\n",
        "        startangle=140)\n",
        "plt.title('Distribución de registros por DOI')\n",
        "plt.axis('equal')\n",
        "plt.tight_layout()\n",
        "plt.show()"
      ],
      "metadata": {
        "colab": {
          "base_uri": "https://localhost:8080/",
          "height": 607
        },
        "id": "HQR_OArY4JbB",
        "outputId": "644fe756-9e37-4f9e-c2d2-99962aa81782"
      },
      "execution_count": 6,
      "outputs": [
        {
          "output_type": "display_data",
          "data": {
            "text/plain": [
              "<Figure size 600x600 with 1 Axes>"
            ],
            "image/png": "[encoded data removed]"
          },
          "metadata": {}
        }
      ]
    },
    {
      "cell_type": "code",
      "execution_count": null,
      "metadata": {
        "colab": {
          "base_uri": "https://localhost:8080/",
          "height": 486
        },
        "id": "J7a2JaZYfB0P",
        "outputId": "fe5013f9-a17a-43f1-c15b-2815736f2385"
      },
      "outputs": [
        {
          "output_type": "execute_result",
          "data": {
            "text/plain": [
              "                                      original_title  \\\n",
              "0  Mutation of solute carrier SLC16A12 associates...   \n",
              "1  Polarization control in two-color above-thresh...   \n",
              "2  Optimisation of the enzyme-linked lectin assay...   \n",
              "3  Vertical composition fluctuations in (Ga,In)(N...   \n",
              "4  Three-dimensional streaming flows driven by os...   \n",
              "\n",
              "                                   original_abstract labelled_duplicates  \\\n",
              "0  Unobstructed vision requires a particular refr...        ['82332306']   \n",
              "1  Two-color multiphoton ionization of atomic hel...       ['147599753']   \n",
              "2  Lectin’s are proteins capable of recognising a...       ['147603441']   \n",
              "3  In this work, we present a detailed transmissi...       ['148653623']   \n",
              "4  Three-dimensional (3D) oscillatory boundary la...       ['148656283']   \n",
              "\n",
              "    core_id        cat                                    processed_title  \\\n",
              "0  11251086  exact_dup  mutation of solute carrier slc16a12 associates...   \n",
              "1  11309751  exact_dup  polarization control in two-color above-thresh...   \n",
              "2  11311385  exact_dup  optimisation of the enzyme-linked lectin assay...   \n",
              "3  11992240  exact_dup  vertical composition fluctuations in (ga,in)(n...   \n",
              "4  11994990  exact_dup  three-dimensional streaming flows driven by os...   \n",
              "\n",
              "                                  processed_abstract  \\\n",
              "0  unobstructed vision refractive lens differenti...   \n",
              "1  multiphoton ionization helium combining extrem...   \n",
              "2  lectin’s capable recognising oligosaccharide t...   \n",
              "3  microscopy interfacial uniformity wells grown ...   \n",
              "4  oscillatory attached deformable walls boundari...   \n",
              "\n",
              "                              doi  \n",
              "0      10.1016/j.ajhg.2007.12.013  \n",
              "1  10.1103/PhysRevLett.101.193002  \n",
              "2        10.1016/j.ab.2011.02.013  \n",
              "3      10.1016/j.jpcs.2007.07.063  \n",
              "4   10.1016/S0169-5983(03)00013-3  "
            ],
            "text/html": [
              "\n",
              "  <div id=\"df-ea4a87d1-a6d7-43aa-a791-38b3b96b0490\" class=\"colab-df-container\">\n",
              "    <div>\n",
              "<style scoped>\n",
              "    .dataframe tbody tr th:only-of-type {\n",
              "        vertical-align: middle;\n",
              "    }\n",
              "\n",
              "    .dataframe tbody tr th {\n",
              "        vertical-align: top;\n",
              "    }\n",
              "\n",
              "    .dataframe thead th {\n",
              "        text-align: right;\n",
              "    }\n",
              "</style>\n",
              "<table border=\"1\" class=\"dataframe\">\n",
              "  <thead>\n",
              "    <tr style=\"text-align: right;\">\n",
              "      <th></th>\n",
              "      <th>original_title</th>\n",
              "      <th>original_abstract</th>\n",
              "      <th>labelled_duplicates</th>\n",
              "      <th>core_id</th>\n",
              "      <th>cat</th>\n",
              "      <th>processed_title</th>\n",
              "      <th>processed_abstract</th>\n",
              "      <th>doi</th>\n",
              "    </tr>\n",
              "  </thead>\n",
              "  <tbody>\n",
              "    <tr>\n",
              "      <th>0</th>\n",
              "      <td>Mutation of solute carrier SLC16A12 associates...</td>\n",
              "      <td>Unobstructed vision requires a particular refr...</td>\n",
              "      <td>['82332306']</td>\n",
              "      <td>11251086</td>\n",
              "      <td>exact_dup</td>\n",
              "      <td>mutation of solute carrier slc16a12 associates...</td>\n",
              "      <td>unobstructed vision refractive lens differenti...</td>\n",
              "      <td>10.1016/j.ajhg.2007.12.013</td>\n",
              "    </tr>\n",
              "    <tr>\n",
              "      <th>1</th>\n",
              "      <td>Polarization control in two-color above-thresh...</td>\n",
              "      <td>Two-color multiphoton ionization of atomic hel...</td>\n",
              "      <td>['147599753']</td>\n",
              "      <td>11309751</td>\n",
              "      <td>exact_dup</td>\n",
              "      <td>polarization control in two-color above-thresh...</td>\n",
              "      <td>multiphoton ionization helium combining extrem...</td>\n",
              "      <td>10.1103/PhysRevLett.101.193002</td>\n",
              "    </tr>\n",
              "    <tr>\n",
              "      <th>2</th>\n",
              "      <td>Optimisation of the enzyme-linked lectin assay...</td>\n",
              "      <td>Lectin’s are proteins capable of recognising a...</td>\n",
              "      <td>['147603441']</td>\n",
              "      <td>11311385</td>\n",
              "      <td>exact_dup</td>\n",
              "      <td>optimisation of the enzyme-linked lectin assay...</td>\n",
              "      <td>lectin’s capable recognising oligosaccharide t...</td>\n",
              "      <td>10.1016/j.ab.2011.02.013</td>\n",
              "    </tr>\n",
              "    <tr>\n",
              "      <th>3</th>\n",
              "      <td>Vertical composition fluctuations in (Ga,In)(N...</td>\n",
              "      <td>In this work, we present a detailed transmissi...</td>\n",
              "      <td>['148653623']</td>\n",
              "      <td>11992240</td>\n",
              "      <td>exact_dup</td>\n",
              "      <td>vertical composition fluctuations in (ga,in)(n...</td>\n",
              "      <td>microscopy interfacial uniformity wells grown ...</td>\n",
              "      <td>10.1016/j.jpcs.2007.07.063</td>\n",
              "    </tr>\n",
              "    <tr>\n",
              "      <th>4</th>\n",
              "      <td>Three-dimensional streaming flows driven by os...</td>\n",
              "      <td>Three-dimensional (3D) oscillatory boundary la...</td>\n",
              "      <td>['148656283']</td>\n",
              "      <td>11994990</td>\n",
              "      <td>exact_dup</td>\n",
              "      <td>three-dimensional streaming flows driven by os...</td>\n",
              "      <td>oscillatory attached deformable walls boundari...</td>\n",
              "      <td>10.1016/S0169-5983(03)00013-3</td>\n",
              "    </tr>\n",
              "  </tbody>\n",
              "</table>\n",
              "</div>\n",
              "    <div class=\"colab-df-buttons\">\n",
              "\n",
              "  <div class=\"colab-df-container\">\n",
              "    <button class=\"colab-df-convert\" onclick=\"convertToInteractive('df-ea4a87d1-a6d7-43aa-a791-38b3b96b0490')\"\n",
              "            title=\"Convert this dataframe to an interactive table.\"\n",
              "            style=\"display:none;\">\n",
              "\n",
              "  <svg xmlns=\"http://www.w3.org/2000/svg\" height=\"24px\" viewBox=\"0 -960 960 960\">\n",
              "    <path d=\"M120-120v-720h720v720H120Zm60-500h600v-160H180v160Zm220 220h160v-160H400v160Zm0 220h160v-160H400v160ZM180-400h160v-160H180v160Zm440 0h160v-160H620v160ZM180-180h160v-160H180v160Zm440 0h160v-160H620v160Z\"/>\n",
              "  </svg>\n",
              "    </button>\n",
              "\n",
              "  <style>\n",
              "    .colab-df-container {\n",
              "      display:flex;\n",
              "      gap: 12px;\n",
              "    }\n",
              "\n",
              "    .colab-df-convert {\n",
              "      background-color: #E8F0FE;\n",
              "      border: none;\n",
              "      border-radius: 50%;\n",
              "      cursor: pointer;\n",
              "      display: none;\n",
              "      fill: #1967D2;\n",
              "      height: 32px;\n",
              "      padding: 0 0 0 0;\n",
              "      width: 32px;\n",
              "    }\n",
              "\n",
              "    .colab-df-convert:hover {\n",
              "      background-color: #E2EBFA;\n",
              "      box-shadow: 0px 1px 2px rgba(60, 64, 67, 0.3), 0px 1px 3px 1px rgba(60, 64, 67, 0.15);\n",
              "      fill: #174EA6;\n",
              "    }\n",
              "\n",
              "    .colab-df-buttons div {\n",
              "      margin-bottom: 4px;\n",
              "    }\n",
              "\n",
              "    [theme=dark] .colab-df-convert {\n",
              "      background-color: #3B4455;\n",
              "      fill: #D2E3FC;\n",
              "    }\n",
              "\n",
              "    [theme=dark] .colab-df-convert:hover {\n",
              "      background-color: #434B5C;\n",
              "      box-shadow: 0px 1px 3px 1px rgba(0, 0, 0, 0.15);\n",
              "      filter: drop-shadow(0px 1px 2px rgba(0, 0, 0, 0.3));\n",
              "      fill: #FFFFFF;\n",
              "    }\n",
              "  </style>\n",
              "\n",
              "    <script>\n",
              "      const buttonEl =\n",
              "        document.querySelector('#df-ea4a87d1-a6d7-43aa-a791-38b3b96b0490 button.colab-df-convert');\n",
              "      buttonEl.style.display =\n",
              "        google.colab.kernel.accessAllowed ? 'block' : 'none';\n",
              "\n",
              "      async function convertToInteractive(key) {\n",
              "        const element = document.querySelector('#df-ea4a87d1-a6d7-43aa-a791-38b3b96b0490');\n",
              "        const dataTable =\n",
              "          await google.colab.kernel.invokeFunction('convertToInteractive',\n",
              "                                                    [key], {});\n",
              "        if (!dataTable) return;\n",
              "\n",
              "        const docLinkHtml = 'Like what you see? Visit the ' +\n",
              "          '<a target=\"_blank\" href=https://colab.research.google.com/notebooks/data_table.ipynb>data table notebook</a>'\n",
              "          + ' to learn more about interactive tables.';\n",
              "        element.innerHTML = '';\n",
              "        dataTable['output_type'] = 'display_data';\n",
              "        await google.colab.output.renderOutput(dataTable, element);\n",
              "        const docLink = document.createElement('div');\n",
              "        docLink.innerHTML = docLinkHtml;\n",
              "        element.appendChild(docLink);\n",
              "      }\n",
              "    </script>\n",
              "  </div>\n",
              "\n",
              "\n",
              "    <div id=\"df-f0856f18-03b4-47e8-a068-2e82046ba52d\">\n",
              "      <button class=\"colab-df-quickchart\" onclick=\"quickchart('df-f0856f18-03b4-47e8-a068-2e82046ba52d')\"\n",
              "                title=\"Suggest charts\"\n",
              "                style=\"display:none;\">\n",
              "\n",
              "<svg xmlns=\"http://www.w3.org/2000/svg\" height=\"24px\"viewBox=\"0 0 24 24\"\n",
              "     width=\"24px\">\n",
              "    <g>\n",
              "        <path d=\"M19 3H5c-1.1 0-2 .9-2 2v14c0 1.1.9 2 2 2h14c1.1 0 2-.9 2-2V5c0-1.1-.9-2-2-2zM9 17H7v-7h2v7zm4 0h-2V7h2v10zm4 0h-2v-4h2v4z\"/>\n",
              "    </g>\n",
              "</svg>\n",
              "      </button>\n",
              "\n",
              "<style>\n",
              "  .colab-df-quickchart {\n",
              "      --bg-color: #E8F0FE;\n",
              "      --fill-color: #1967D2;\n",
              "      --hover-bg-color: #E2EBFA;\n",
              "      --hover-fill-color: #174EA6;\n",
              "      --disabled-fill-color: #AAA;\n",
              "      --disabled-bg-color: #DDD;\n",
              "  }\n",
              "\n",
              "  [theme=dark] .colab-df-quickchart {\n",
              "      --bg-color: #3B4455;\n",
              "      --fill-color: #D2E3FC;\n",
              "      --hover-bg-color: #434B5C;\n",
              "      --hover-fill-color: #FFFFFF;\n",
              "      --disabled-bg-color: #3B4455;\n",
              "      --disabled-fill-color: #666;\n",
              "  }\n",
              "\n",
              "  .colab-df-quickchart {\n",
              "    background-color: var(--bg-color);\n",
              "    border: none;\n",
              "    border-radius: 50%;\n",
              "    cursor: pointer;\n",
              "    display: none;\n",
              "    fill: var(--fill-color);\n",
              "    height: 32px;\n",
              "    padding: 0;\n",
              "    width: 32px;\n",
              "  }\n",
              "\n",
              "  .colab-df-quickchart:hover {\n",
              "    background-color: var(--hover-bg-color);\n",
              "    box-shadow: 0 1px 2px rgba(60, 64, 67, 0.3), 0 1px 3px 1px rgba(60, 64, 67, 0.15);\n",
              "    fill: var(--button-hover-fill-color);\n",
              "  }\n",
              "\n",
              "  .colab-df-quickchart-complete:disabled,\n",
              "  .colab-df-quickchart-complete:disabled:hover {\n",
              "    background-color: var(--disabled-bg-color);\n",
              "    fill: var(--disabled-fill-color);\n",
              "    box-shadow: none;\n",
              "  }\n",
              "\n",
              "  .colab-df-spinner {\n",
              "    border: 2px solid var(--fill-color);\n",
              "    border-color: transparent;\n",
              "    border-bottom-color: var(--fill-color);\n",
              "    animation:\n",
              "      spin 1s steps(1) infinite;\n",
              "  }\n",
              "\n",
              "  @keyframes spin {\n",
              "    0% {\n",
              "      border-color: transparent;\n",
              "      border-bottom-color: var(--fill-color);\n",
              "      border-left-color: var(--fill-color);\n",
              "    }\n",
              "    20% {\n",
              "      border-color: transparent;\n",
              "      border-left-color: var(--fill-color);\n",
              "      border-top-color: var(--fill-color);\n",
              "    }\n",
              "    30% {\n",
              "      border-color: transparent;\n",
              "      border-left-color: var(--fill-color);\n",
              "      border-top-color: var(--fill-color);\n",
              "      border-right-color: var(--fill-color);\n",
              "    }\n",
              "    40% {\n",
              "      border-color: transparent;\n",
              "      border-right-color: var(--fill-color);\n",
              "      border-top-color: var(--fill-color);\n",
              "    }\n",
              "    60% {\n",
              "      border-color: transparent;\n",
              "      border-right-color: var(--fill-color);\n",
              "    }\n",
              "    80% {\n",
              "      border-color: transparent;\n",
              "      border-right-color: var(--fill-color);\n",
              "      border-bottom-color: var(--fill-color);\n",
              "    }\n",
              "    90% {\n",
              "      border-color: transparent;\n",
              "      border-bottom-color: var(--fill-color);\n",
              "    }\n",
              "  }\n",
              "</style>\n",
              "\n",
              "      <script>\n",
              "        async function quickchart(key) {\n",
              "          const quickchartButtonEl =\n",
              "            document.querySelector('#' + key + ' button');\n",
              "          quickchartButtonEl.disabled = true;  // To prevent multiple clicks.\n",
              "          quickchartButtonEl.classList.add('colab-df-spinner');\n",
              "          try {\n",
              "            const charts = await google.colab.kernel.invokeFunction(\n",
              "                'suggestCharts', [key], {});\n",
              "          } catch (error) {\n",
              "            console.error('Error during call to suggestCharts:', error);\n",
              "          }\n",
              "          quickchartButtonEl.classList.remove('colab-df-spinner');\n",
              "          quickchartButtonEl.classList.add('colab-df-quickchart-complete');\n",
              "        }\n",
              "        (() => {\n",
              "          let quickchartButtonEl =\n",
              "            document.querySelector('#df-f0856f18-03b4-47e8-a068-2e82046ba52d button');\n",
              "          quickchartButtonEl.style.display =\n",
              "            google.colab.kernel.accessAllowed ? 'block' : 'none';\n",
              "        })();\n",
              "      </script>\n",
              "    </div>\n",
              "\n",
              "    </div>\n",
              "  </div>\n"
            ],
            "application/vnd.google.colaboratory.intrinsic+json": {
              "type": "dataframe",
              "variable_name": "df",
              "summary": "{\n  \"name\": \"df\",\n  \"rows\": 10000,\n  \"fields\": [\n    {\n      \"column\": \"original_title\",\n      \"properties\": {\n        \"dtype\": \"string\",\n        \"num_unique_values\": 9998,\n        \"samples\": [\n          \"Room Temperature Photoluminescence From Nanostructured Amorphous Carbon\",\n          \"Leisure activities and social factors influence the generation of cultural ecosystem service benefits\",\n          \"Value Model of Knowledge Diffusion in High Technology Innovation Networks\"\n        ],\n        \"semantic_type\": \"\",\n        \"description\": \"\"\n      }\n    },\n    {\n      \"column\": \"original_abstract\",\n      \"properties\": {\n        \"dtype\": \"string\",\n        \"num_unique_values\": 9998,\n        \"samples\": [\n          \"When 250 workers die in a fire at a Pakistani factory producing jeans for a German discount chain, when the work day lasts 12 hours in Cambodia\\u2019s garment industry or when workers commit suicide in Chinese factories producing electronics for international brands, should only the corporations in Pakistan, Cambodia and China be held liable? What about the liability of their parent and subcontracting companies abroad? The United Nations increasingly recommends that states ensure that enterprises domiciled in their territory respect human rights throughout their extraterritorial operations. Furthermore, the United Nations and the Organisation for Economic Co-operation and Development recommend that parent and subcontracting companies conduct human rights due diligence. Both developments are reflected in General Comment 23, which was recently adopted by the Committee on Economic, Social and Cultural Rights and relates to the right to just conditions of work. To date, however, there is no domestic law that specifically addresses the liability of parent or subcontracting companies for violations of the right to just working conditions of employees of foreign subsidiaries or suppliers. Although case law is emerging, much uncertainty remains about criteria establishing such liability. France and Switzerland are discussing legislative steps for clarifying corporate liability beyond disclosure requirements to ensure compliance with international recommendations\",\n          \"Producci\\u00f3n Cient\\u00edficaThe barrier height for the most asymmetric fission decay of doubly charged sodium clusters\\r\\n(Na_N^2+) into singly ionized fragments has been computed with use of density-functional theory and\\r\\nthe jellium model. We have found that the barrier is sizable for large or intermediate-size clusters,\\r\\nbut vanishes for N<=9. We have also computed the energy DeltaH_e, needed to evaporate a neutral\\r\\nmonomer from Na_N ^2+. For N<=40, the barrier height is smaller than DeltaH_e and emission of a Na^+\\r\\nion is the preferred decay channel of hot Na_N^2+ clusters. On the other hand, the barrier height is\\r\\nlarger than DeltaH_e, for N>40 and, in this case, monomer evaporation becomes competitive. The critical\\r\\ncluster size, N_c=40, for the transition from one decay mode to the other is in reasonable agreement\\r\\nwith the experimental result. Our calculations suggest that the mechanism for neutralmonomer\\r\\nevaporation is different from the one currently assumed\",\n          \"Part 6: Decision Making and Knowledge ManagementInternational audienceTo measure the influence of knowledge diffusion and information exchange between enterprises on high-tech innovation networks\\u2019 production and operation, a production model and innovation model based on a network diffusion process are introduced. The knowledge diffusion process treated as an learning-by-observing process in a random network are influenced both by network\\u2019s structure and non-structure properties. We analyze the influence of diffusion process theoretically and find that, if given the precondition that initial belief and belief elasticity follow a normal distribution, an increase in mean of initial belief would lead to increase in PV and IV; otherwise, mean of belief elasticity would have a opposite effect on PV and IV under some different conditions. Finally, we give the condition to compare knowledge diffusions in two high-tech networks with same mean degree but different variance\"\n        ],\n        \"semantic_type\": \"\",\n        \"description\": \"\"\n      }\n    },\n    {\n      \"column\": \"labelled_duplicates\",\n      \"properties\": {\n        \"dtype\": \"string\",\n        \"num_unique_values\": 10000,\n        \"samples\": [\n          \"['51953911']\",\n          \"['147601185']\",\n          \"['47347526']\"\n        ],\n        \"semantic_type\": \"\",\n        \"description\": \"\"\n      }\n    },\n    {\n      \"column\": \"core_id\",\n      \"properties\": {\n        \"dtype\": \"number\",\n        \"std\": 48739268,\n        \"min\": 66038,\n        \"max\": 196296187,\n        \"num_unique_values\": 10000,\n        \"samples\": [\n          47278898,\n          11310418,\n          47307280\n        ],\n        \"semantic_type\": \"\",\n        \"description\": \"\"\n      }\n    },\n    {\n      \"column\": \"cat\",\n      \"properties\": {\n        \"dtype\": \"category\",\n        \"num_unique_values\": 1,\n        \"samples\": [\n          \"exact_dup\"\n        ],\n        \"semantic_type\": \"\",\n        \"description\": \"\"\n      }\n    },\n    {\n      \"column\": \"processed_title\",\n      \"properties\": {\n        \"dtype\": \"string\",\n        \"num_unique_values\": 9998,\n        \"samples\": [\n          \"room temperature photoluminescence from nanostructured amorphous carbon\"\n        ],\n        \"semantic_type\": \"\",\n        \"description\": \"\"\n      }\n    },\n    {\n      \"column\": \"processed_abstract\",\n      \"properties\": {\n        \"dtype\": \"string\",\n        \"num_unique_values\": 9998,\n        \"samples\": [\n          \"workers fire pakistani factory producing jeans german discount lasts cambodia\\u2019s garment workers commit suicide chinese factories producing electronics brands corporations pakistan cambodia held liable liability parent subcontracting companies abroad nations increasingly recommends ensure enterprises domiciled territory rights extraterritorial operations. nations organisation recommend parent subcontracting companies conduct rights diligence. developments reflected comment adopted committee cultural rights relates work. domestic addresses liability parent subcontracting companies violations employees foreign subsidiaries suppliers. emerging establishing liability. switzerland discussing legislative clarifying corporate liability disclosure ensure compliance recommendations\"\n        ],\n        \"semantic_type\": \"\",\n        \"description\": \"\"\n      }\n    },\n    {\n      \"column\": \"doi\",\n      \"properties\": {\n        \"dtype\": \"string\",\n        \"num_unique_values\": 10000,\n        \"samples\": [\n          \"10.1016/j.physleta.2014.04.025\"\n        ],\n        \"semantic_type\": \"\",\n        \"description\": \"\"\n      }\n    }\n  ]\n}"
            }
          },
          "metadata": {},
          "execution_count": 18
        }
      ],
      "source": [
        "import pandas as pd\n",
        "\n",
        "# Mostrar los registros procesados\n",
        "df = pd.read_csv(output_file)\n",
        "df.head()"
      ]
    },
    {
      "cell_type": "markdown",
      "source": [
        "### Historial de usuarios"
      ],
      "metadata": {
        "id": "FVLBuH3MTdsa"
      }
    },
    {
      "cell_type": "code",
      "source": [
        "from faker import Faker\n",
        "import pandas as pd\n",
        "from sklearn.model_selection import train_test_split\n",
        "\n",
        "# Inicializar Faker\n",
        "faker = Faker()\n",
        "\n",
        "# Número de usuarios a generar\n",
        "num_users = 2000\n",
        "\n",
        "# Crear usuarios únicos\n",
        "users = [faker.user_name() for _ in range(num_users)]\n",
        "\n",
        "# Crear interacciones aleatorias entre usuarios y artículos\n",
        "interactions = []\n",
        "\n",
        "# Asegurar al menos una interacción por usuario\n",
        "for user in users:\n",
        "    article = df.sample(1).iloc[0]\n",
        "    interactions.append({\n",
        "        'click': int(np.random.rand() < 0.8), # interacciones positivas (1) y negativas (0), 80% probabilidad de interacción positiva\n",
        "        'user': user,\n",
        "        'id': article['core_id']\n",
        "    })\n",
        "\n",
        "# Generar entre 4 y 9 interacciones adicionales por usuario\n",
        "for user in users:\n",
        "    n_extras = np.random.randint(3, 10)  # entre 4 y 9 extras\n",
        "    for _ in range(n_extras):\n",
        "        article = df.sample(1).iloc[0]\n",
        "        interactions.append({\n",
        "            'click': int(np.random.rand() < 0.8), # interacciones positivas (1) y negativas (0), 80% probabilidad de interacción positiva\n",
        "            'user': user,\n",
        "            'id': article['core_id']\n",
        "        })\n",
        "\n",
        "# Crear dataframe a partir de las interacciones\n",
        "inter_df = pd.DataFrame(interactions)\n",
        "inter_df.to_csv(interactions_path, index=False)\n",
        "\n",
        "\n",
        "# Primero dividimos en train (80%) y temp (20%)\n",
        "train_df, temp_df = train_test_split(inter_df, test_size=0.2, random_state=42)\n",
        "\n",
        "# Luego dividimos temp en valid (10%) y test (10%) -> 10/20 = 0.5\n",
        "valid_df, test_df = train_test_split(temp_df, test_size=0.5, random_state=42)\n",
        "\n",
        "# Función para escribir archivos de interacción\n",
        "def write_interaction_file(sub_df, filename):\n",
        "    with open(os.path.join(output_dir, filename), \"w\") as f:\n",
        "        for _, row in sub_df.iterrows():\n",
        "            f.write(f\"{row['click']} {row['user']} {row['id']}\\n\")\n",
        "\n",
        "# Generar archivos de interacción\n",
        "write_interaction_file(train_df, \"train.txt\")\n",
        "write_interaction_file(test_df, \"test.txt\")\n",
        "write_interaction_file(valid_df, \"valid.txt\")\n",
        "\n",
        "# Historial de usuario (clicks positivos)\n",
        "click_history = inter_df[inter_df['click'] == 1].groupby('user')['id'].apply(list).to_dict()\n",
        "\n",
        "# Escribir historial de usuarios\n",
        "with open(os.path.join(output_dir, \"user_history.txt\"), \"w\") as f:\n",
        "    for user in users:\n",
        "        articles = click_history.get(user, [])\n",
        "        recent = articles[-10:] if articles else [0]\n",
        "        f.write(f\"{user} {','.join(map(str, recent))}\\n\")\n",
        "\n",
        "print(f\"Total de interacciones generadas: {len(inter_df)}\")\n",
        "print(f\"- Interacciones de entrenamiento: {len(train_df)}\")\n",
        "print(f\"- Interacciones de prueba: {len(test_df)}\")\n",
        "print(f\"- Interacciones de validación: {len(valid_df)}\")"
      ],
      "metadata": {
        "colab": {
          "base_uri": "https://localhost:8080/"
        },
        "id": "eQc1kNodQT42",
        "outputId": "3ce1c1dc-4480-4fd7-f17b-f6d44a4402d6"
      },
      "execution_count": null,
      "outputs": [
        {
          "output_type": "stream",
          "name": "stdout",
          "text": [
            "Total de interacciones generadas: 14010\n",
            "- Interacciones de entrenamiento: 11208\n",
            "- Interacciones de prueba: 1401\n",
            "- Interacciones de validación: 1401\n"
          ]
        }
      ]
    },
    {
      "cell_type": "markdown",
      "metadata": {
        "id": "twWJn6-yDKT2"
      },
      "source": [
        "## Ingeniería de modelos"
      ]
    },
    {
      "cell_type": "markdown",
      "metadata": {
        "id": "T8Y-3wmhLF5N"
      },
      "source": [
        "### Word embeddings"
      ]
    },
    {
      "cell_type": "code",
      "execution_count": null,
      "metadata": {
        "colab": {
          "base_uri": "https://localhost:8080/"
        },
        "id": "-4jhmgwEfMvU",
        "outputId": "4785d9ac-44a3-42f9-995e-713ce924c767"
      },
      "outputs": [
        {
          "output_type": "stream",
          "name": "stdout",
          "text": [
            "Vocabulario creado con 61088 palabras únicas\n",
            "Matriz de embeddings guardada con forma: (61088, 100)\n"
          ]
        }
      ],
      "source": [
        "import json\n",
        "import fasttext\n",
        "\n",
        "# Guardar los tokens para FastText\n",
        "with open(os.path.join(output_dir, \"tokenized_abstract.txt\"), \"w\", encoding=\"utf-8\") as f:\n",
        "    for text in df['processed_abstract']:\n",
        "        if isinstance(text, str):  # Verificar que el texto no sea None o NaN\n",
        "            f.write(text.strip() + \"\\n\")\n",
        "\n",
        "# Crear vocabulario con IDs\n",
        "word2id = {\"<PAD>\": 0, \"<UNK>\": 1}  # Añadimos un token para palabras desconocidas\n",
        "id_counter = 2\n",
        "for text in df['processed_abstract']:\n",
        "    if isinstance(text, str):\n",
        "        for word in text.strip().split():\n",
        "            if word not in word2id:\n",
        "                word2id[word] = id_counter\n",
        "                id_counter += 1\n",
        "\n",
        "print(f\"Vocabulario creado con {len(word2id)} palabras únicas\")\n",
        "\n",
        "# Entrenar modelo FastText (skipgram)\n",
        "model = fasttext.train_unsupervised(\n",
        "    os.path.join(output_dir, \"tokenized_abstract.txt\"),\n",
        "    model='skipgram',\n",
        "    dim=100,\n",
        "    ws=5,\n",
        "    epoch=5,\n",
        "    minCount=5\n",
        ")\n",
        "\n",
        "# Crear matriz de embeddings\n",
        "embedding_dim = model.get_dimension()\n",
        "embedding_matrix = np.zeros((len(word2id), embedding_dim))\n",
        "\n",
        "# Inicializar con vectores aleatorios para <PAD> y <UNK>\n",
        "embedding_matrix[1] = np.random.uniform(-0.25, 0.25, embedding_dim)  # <UNK>\n",
        "\n",
        "# Llenar la matriz de embeddings\n",
        "for word, idx in word2id.items():\n",
        "    if word not in [\"<PAD>\", \"<UNK>\"]:\n",
        "        embedding_matrix[idx] = model.get_word_vector(word)\n",
        "\n",
        "# Guardar word embeddings\n",
        "np.save(os.path.join(output_dir, \"word_embeddings.npy\"), embedding_matrix)\n",
        "\n",
        "# Guardar el vocabulario para futura referencia\n",
        "with open(os.path.join(output_dir, \"word2id.json\"), \"w\", encoding=\"utf-8\") as f:\n",
        "    json.dump(word2id, f, ensure_ascii=False, indent=2)\n",
        "\n",
        "print(f\"Matriz de embeddings guardada con forma: {embedding_matrix.shape}\")"
      ]
    },
    {
      "cell_type": "markdown",
      "metadata": {
        "id": "Zz4mKoicLQ3q"
      },
      "source": [
        "### Features"
      ]
    },
    {
      "cell_type": "code",
      "execution_count": null,
      "metadata": {
        "colab": {
          "base_uri": "https://localhost:8080/"
        },
        "id": "TIMP30veXDIm",
        "outputId": "9ce0dd1c-0f87-43f5-8f2a-123344452c30"
      },
      "outputs": [
        {
          "output_type": "stream",
          "name": "stdout",
          "text": [
            "Todos los archivos DKN se generaron en: /content/drive/MyDrive/TIC/dkn_output\n",
            "Total de artículos utilizados: 10000\n"
          ]
        }
      ],
      "source": [
        "import json\n",
        "\n",
        "# Cargar los embeddings ya generados\n",
        "word_embeddings = np.load(os.path.join(output_dir, \"word_embeddings.npy\"))\n",
        "\n",
        "# Cargar el vocabulario\n",
        "with open(os.path.join(output_dir, \"word2id.json\"), \"r\", encoding=\"utf-8\") as f:\n",
        "    word2id = json.load(f)\n",
        "\n",
        "# Tamaño de documento\n",
        "doc_size = 10\n",
        "\n",
        "# Función para obtener los índices de palabras más relevantes\n",
        "def get_top_index(abstract, word2id, word_embeddings, num_indices=doc_size):\n",
        "    # Tokenizar el abstract\n",
        "    tokens = abstract.strip().split()\n",
        "    # Obtener los índices de las palabras en el vocabulario\n",
        "    index = [word2id.get(word, 1) for word in tokens]  # Si no está en el vocabulario, usar <UNK>\n",
        "    # Crear un vector de embedding para cada palabra y obtener los top indices\n",
        "    embedding_indices = np.array([word_embeddings[idx] for idx in index if idx < len(word_embeddings)])\n",
        "    # Si el vector de embedding está vacío, llenar con ceros\n",
        "    if len(embedding_indices) == 0:\n",
        "        return [0] * num_indices\n",
        "\n",
        "    # Calcular la similitud y obtener los índices más importantes\n",
        "    similarity_scores = np.abs(embedding_indices).sum(axis=1)\n",
        "    top_indices = np.argsort(similarity_scores)[-num_indices:]\n",
        "    # Devolver los índices más relevantes y rellenar si es necesario\n",
        "    return top_indices.tolist() + [0] * (num_indices - len(top_indices))\n",
        "\n",
        "# Aplicar la función a cada artículo en el dataframe\n",
        "df['word_ids'] = df['processed_abstract'].apply(lambda x: get_top_index(x, word2id, word_embeddings))\n",
        "\n",
        "# Artículos únicos utilizados\n",
        "unique_articles = df.drop_duplicates(subset='core_id')\n",
        "\n",
        "# Escribir archivo de características\n",
        "with open(os.path.join(output_dir, \"features.txt\"), \"w\") as f:\n",
        "    for _, row in unique_articles.iterrows():\n",
        "        word_str = \",\".join(map(str, row['word_ids']))\n",
        "        entity_str = \",\".join([\"0\"] * doc_size)\n",
        "        f.write(f\"{row['core_id']} {word_str} {entity_str}\\n\")\n",
        "\n",
        "# Padding dummy (para el ID 0)\n",
        "with open(os.path.join(output_dir, \"features.txt\"), \"a\") as f:\n",
        "    f.write(\"0 \" + \",\".join([\"0\"] * doc_size) + \" \" + \",\".join([\"0\"] * doc_size) + \"\\n\")\n",
        "\n",
        "print(f\"Todos los archivos DKN se generaron en: {output_dir}\")\n",
        "print(f\"Total de artículos utilizados: {len(unique_articles)}\")"
      ]
    },
    {
      "cell_type": "markdown",
      "metadata": {
        "id": "EXJbQSjULZJQ"
      },
      "source": [
        "### Entrenamiento del modelo"
      ]
    },
    {
      "cell_type": "code",
      "execution_count": null,
      "metadata": {
        "collapsed": true,
        "id": "mWWQAJohXle8"
      },
      "outputs": [],
      "source": [
        "from recommenders.models.deeprec.deeprec_utils import prepare_hparams\n",
        "from recommenders.models.deeprec.models.dkn import DKN\n",
        "from recommenders.models.deeprec.io.dkn_iterator import DKNTextIterator\n",
        "\n",
        "# Hiperparámetros para entrenar el modelo\n",
        "hparams = prepare_hparams(\n",
        "    yaml_file=None,\n",
        "    news_feature_file=os.path.join(output_dir, \"features.txt\"),\n",
        "    user_history_file=os.path.join(output_dir, \"user_history.txt\"),\n",
        "    wordEmb_file=os.path.join(output_dir, \"word_embeddings.npy\"),\n",
        "    MODEL_DIR=model_path,\n",
        "    metrics=['acc'],\n",
        "    # General\n",
        "    learning_rate=0.001,\n",
        "    epochs=3,\n",
        "    batch_size=2,\n",
        "    show_step=200,\n",
        "    model_type=\"dkn\",\n",
        "    data_format=\"dkn\",\n",
        "    # DKN\n",
        "    history_size=10,\n",
        "    doc_size=10,\n",
        "    word_embedding_dim=100,\n",
        "    entity_embedding_dim=100,\n",
        "    entity_vocab_size=100000,\n",
        "    use_entity=False,\n",
        "    use_context=False,\n",
        "    num_filters=128,\n",
        "    filter_sizes=[3],\n",
        "    layer_sizes=[128],\n",
        "    activation=[\"relu\"],\n",
        "    loss=\"cross_entropy_loss\",\n",
        "    optimizer=\"adam\",\n",
        "    train_num_ngs=4,\n",
        "    test_num_ngs=4,\n",
        "    entity_dim=100,\n",
        "    dim=100,\n",
        "    entity_size=100000,\n",
        "    attention_layer_sizes=128,\n",
        "    attention_activation=\"relu\",\n",
        "    method=\"regression\"\n",
        ")\n",
        "\n",
        "# Instanciar el modelo\n",
        "model = DKN(hparams, DKNTextIterator)"
      ]
    },
    {
      "cell_type": "code",
      "source": [
        "# Entrenar el modelo\n",
        "model.fit(\n",
        "    os.path.join(output_dir, \"train.txt\"),\n",
        "    os.path.join(output_dir, \"test.txt\")\n",
        ")"
      ],
      "metadata": {
        "id": "qOUa1bJFix9j",
        "colab": {
          "base_uri": "https://localhost:8080/"
        },
        "outputId": "dfccaa6a-73c0-4e10-b530-a6954558bf08"
      },
      "execution_count": null,
      "outputs": [
        {
          "output_type": "stream",
          "name": "stdout",
          "text": [
            "step 200 , total_loss: 0.9464, data_loss: 0.9464\n",
            "step 400 , total_loss: 1.2447, data_loss: 1.2447\n",
            "step 600 , total_loss: 1.3136, data_loss: 1.3136\n",
            "step 800 , total_loss: 0.7785, data_loss: 0.7785\n",
            "step 1000 , total_loss: 0.1865, data_loss: 0.1865\n",
            "step 1200 , total_loss: 0.2525, data_loss: 0.2525\n",
            "step 1400 , total_loss: 0.7115, data_loss: 0.7115\n",
            "step 1600 , total_loss: 1.0901, data_loss: 1.0901\n",
            "step 1800 , total_loss: 0.7293, data_loss: 0.7293\n",
            "step 2000 , total_loss: 0.2156, data_loss: 0.2156\n",
            "step 2200 , total_loss: 0.2780, data_loss: 0.2780\n",
            "step 2400 , total_loss: 0.3171, data_loss: 0.3171\n",
            "step 2600 , total_loss: 0.1318, data_loss: 0.1318\n",
            "step 2800 , total_loss: 0.2903, data_loss: 0.2903\n",
            "step 3000 , total_loss: 0.6678, data_loss: 0.6678\n",
            "step 3200 , total_loss: 0.3006, data_loss: 0.3006\n",
            "step 3400 , total_loss: 0.2369, data_loss: 0.2369\n",
            "step 3600 , total_loss: 0.2045, data_loss: 0.2045\n",
            "step 3800 , total_loss: 1.1309, data_loss: 1.1309\n",
            "step 4000 , total_loss: 0.9874, data_loss: 0.9874\n",
            "step 4200 , total_loss: 0.2898, data_loss: 0.2898\n",
            "step 4400 , total_loss: 0.2386, data_loss: 0.2386\n",
            "step 4600 , total_loss: 0.2151, data_loss: 0.2151\n",
            "step 4800 , total_loss: 0.3107, data_loss: 0.3107\n",
            "step 5000 , total_loss: 0.3191, data_loss: 0.3191\n",
            "step 5200 , total_loss: 0.2105, data_loss: 0.2105\n",
            "step 5400 , total_loss: 0.3892, data_loss: 0.3892\n",
            "at epoch 1\n",
            "train info: logloss loss:0.48982987\n",
            "eval info: acc:0.7855\n",
            "at epoch 1 , train time: 436.0 eval time: 1.2\n",
            "step 200 , total_loss: 0.7008, data_loss: 0.7008\n",
            "step 400 , total_loss: 1.4135, data_loss: 1.4135\n",
            "step 600 , total_loss: 1.1730, data_loss: 1.1730\n",
            "step 800 , total_loss: 0.7350, data_loss: 0.7350\n",
            "step 1000 , total_loss: 0.1491, data_loss: 0.1491\n",
            "step 1200 , total_loss: 0.2256, data_loss: 0.2256\n",
            "step 1400 , total_loss: 0.6856, data_loss: 0.6856\n",
            "step 1600 , total_loss: 1.1942, data_loss: 1.1942\n",
            "step 1800 , total_loss: 0.6946, data_loss: 0.6946\n",
            "step 2000 , total_loss: 0.2338, data_loss: 0.2338\n",
            "step 2200 , total_loss: 0.2762, data_loss: 0.2762\n",
            "step 2400 , total_loss: 0.3104, data_loss: 0.3104\n",
            "step 2600 , total_loss: 0.1426, data_loss: 0.1426\n",
            "step 2800 , total_loss: 0.2607, data_loss: 0.2607\n",
            "step 3000 , total_loss: 0.6543, data_loss: 0.6543\n",
            "step 3200 , total_loss: 0.3255, data_loss: 0.3255\n",
            "step 3400 , total_loss: 0.2324, data_loss: 0.2324\n",
            "step 3600 , total_loss: 0.1823, data_loss: 0.1823\n",
            "step 3800 , total_loss: 1.1591, data_loss: 1.1591\n",
            "step 4000 , total_loss: 0.9935, data_loss: 0.9935\n",
            "step 4200 , total_loss: 0.2994, data_loss: 0.2994\n",
            "step 4400 , total_loss: 0.2160, data_loss: 0.2160\n",
            "step 4600 , total_loss: 0.2353, data_loss: 0.2353\n",
            "step 4800 , total_loss: 0.3392, data_loss: 0.3392\n",
            "step 5000 , total_loss: 0.2955, data_loss: 0.2955\n",
            "step 5200 , total_loss: 0.2158, data_loss: 0.2158\n",
            "step 5400 , total_loss: 0.3581, data_loss: 0.3581\n",
            "at epoch 2\n",
            "train info: logloss loss:0.48285934\n",
            "eval info: acc:0.7834\n",
            "at epoch 2 , train time: 446.6 eval time: 1.6\n",
            "step 200 , total_loss: 0.6622, data_loss: 0.6622\n",
            "step 400 , total_loss: 1.4175, data_loss: 1.4175\n",
            "step 600 , total_loss: 1.0672, data_loss: 1.0672\n",
            "step 800 , total_loss: 0.7748, data_loss: 0.7748\n",
            "step 1000 , total_loss: 0.1926, data_loss: 0.1926\n",
            "step 1200 , total_loss: 0.1974, data_loss: 0.1974\n",
            "step 1400 , total_loss: 0.6091, data_loss: 0.6091\n",
            "step 1600 , total_loss: 1.2404, data_loss: 1.2404\n",
            "step 1800 , total_loss: 0.5743, data_loss: 0.5743\n",
            "step 2000 , total_loss: 0.3263, data_loss: 0.3263\n",
            "step 2200 , total_loss: 0.2707, data_loss: 0.2707\n",
            "step 2400 , total_loss: 0.2992, data_loss: 0.2992\n",
            "step 2600 , total_loss: 0.1493, data_loss: 0.1493\n",
            "step 2800 , total_loss: 0.2520, data_loss: 0.2520\n",
            "step 3000 , total_loss: 0.6676, data_loss: 0.6676\n",
            "step 3200 , total_loss: 0.3362, data_loss: 0.3362\n",
            "step 3400 , total_loss: 0.2335, data_loss: 0.2335\n",
            "step 3600 , total_loss: 0.1605, data_loss: 0.1605\n",
            "step 3800 , total_loss: 1.1069, data_loss: 1.1069\n",
            "step 4000 , total_loss: 1.1304, data_loss: 1.1304\n",
            "step 4200 , total_loss: 0.3383, data_loss: 0.3383\n",
            "step 4400 , total_loss: 0.2010, data_loss: 0.2010\n",
            "step 4600 , total_loss: 0.2289, data_loss: 0.2289\n",
            "step 4800 , total_loss: 0.3507, data_loss: 0.3507\n",
            "step 5000 , total_loss: 0.2410, data_loss: 0.2410\n",
            "step 5200 , total_loss: 0.2475, data_loss: 0.2475\n",
            "step 5400 , total_loss: 0.3367, data_loss: 0.3367\n",
            "at epoch 3\n",
            "train info: logloss loss:0.47641188\n",
            "eval info: acc:0.7791\n",
            "at epoch 3 , train time: 466.1 eval time: 1.2\n"
          ]
        },
        {
          "output_type": "execute_result",
          "data": {
            "text/plain": [
              "<recommenders.models.deeprec.models.dkn.DKN at 0x7d35e064c590>"
            ]
          },
          "metadata": {},
          "execution_count": 11
        }
      ]
    },
    {
      "cell_type": "code",
      "source": [
        "# Guardar el modelo\n",
        "model.saver.save(model.sess, os.path.join(model_path, 'dkn_model.ckpt'))\n",
        "print(\"Modelo guardado en:\", model_path)"
      ],
      "metadata": {
        "colab": {
          "base_uri": "https://localhost:8080/"
        },
        "id": "31YFDObNk7bh",
        "outputId": "3c4b73f9-3eda-43cf-94dc-dfaf78dd67a5"
      },
      "execution_count": null,
      "outputs": [
        {
          "output_type": "stream",
          "name": "stdout",
          "text": [
            "Modelo guardado en: /content/drive/MyDrive/TIC/dkn_output/model\n"
          ]
        }
      ]
    },
    {
      "cell_type": "markdown",
      "metadata": {
        "id": "jSQgS_J5LgDi"
      },
      "source": [
        "## Evaluación"
      ]
    },
    {
      "cell_type": "code",
      "source": [
        "# Cargar el modelo\n",
        "model.load_model(os.path.join(model_path, 'dkn_model.ckpt'))\n",
        "print(\"Modelo cargado\")"
      ],
      "metadata": {
        "id": "BSNpJMrekdl7",
        "colab": {
          "base_uri": "https://localhost:8080/"
        },
        "outputId": "2240a2f0-2a40-40ce-e54b-5813479649b2"
      },
      "execution_count": null,
      "outputs": [
        {
          "output_type": "stream",
          "name": "stdout",
          "text": [
            "Modelo cargado\n"
          ]
        }
      ]
    },
    {
      "cell_type": "code",
      "source": [
        "# Evaluación con el conjunto de validación\n",
        "result = model.run_eval(os.path.join(output_dir, \"valid.txt\"))\n",
        "accuracy = result.get('acc', 0.0)\n",
        "print(f\"Resultado de evaluación:\\n- Accuracy: {accuracy:.2%}\")"
      ],
      "metadata": {
        "colab": {
          "base_uri": "https://localhost:8080/"
        },
        "id": "jkDCZxaXe5tE",
        "outputId": "3e5cdc88-e139-4084-88d1-e20bc56ba36c"
      },
      "execution_count": null,
      "outputs": [
        {
          "output_type": "stream",
          "name": "stdout",
          "text": [
            "Resultado de evaluación:\n",
            "- Accuracy: 80.20%\n"
          ]
        }
      ]
    },
    {
      "cell_type": "markdown",
      "source": [
        "### Predicción"
      ],
      "metadata": {
        "id": "O1pETbXFfl31"
      }
    },
    {
      "cell_type": "code",
      "execution_count": null,
      "metadata": {
        "colab": {
          "base_uri": "https://localhost:8080/"
        },
        "id": "ARVKoLh5Y7os",
        "outputId": "f1c015ac-0c28-41f8-f182-5b0a621eb7c6"
      },
      "outputs": [
        {
          "output_type": "execute_result",
          "data": {
            "text/plain": [
              "<recommenders.models.deeprec.models.dkn.DKN at 0x7a95bc09e410>"
            ]
          },
          "metadata": {},
          "execution_count": 8
        }
      ],
      "source": [
        "import random\n",
        "\n",
        "# Datos\n",
        "inter_df = pd.read_csv(interactions_path)\n",
        "\n",
        "# Número de usuarios a evaluar\n",
        "num_users = 2\n",
        "\n",
        "# Lista de usuarios y artículos del dataset\n",
        "usuarios = inter_df['user'].unique().tolist()\n",
        "articulos = inter_df['core_id'].astype(str).unique().tolist()\n",
        "\n",
        "# Elegir usuarios aleatorios sin repetición\n",
        "usuarios_seleccionados = random.sample(usuarios, min(num_users, len(usuarios)))\n",
        "\n",
        "# Abrir el archivo predict.txt para escribir\n",
        "with open(predict_path, \"w\") as f:\n",
        "    # Escribir una línea por cada combinación de usuario-artículo\n",
        "    for user in usuarios_seleccionados:\n",
        "        for item in articulos:\n",
        "            f.write(f\"1 {user} {item}\\n\")\n",
        "\n",
        "# Predecir\n",
        "model.predict(predict_path, result_path)"
      ]
    },
    {
      "cell_type": "code",
      "execution_count": null,
      "metadata": {
        "colab": {
          "base_uri": "https://localhost:8080/"
        },
        "id": "zWHs8Ns-bIXO",
        "outputId": "b474ba67-5ea4-46ac-c03d-9b03f23934b3"
      },
      "outputs": [
        {
          "output_type": "stream",
          "name": "stdout",
          "text": [
            "\n",
            "Usuario: ccastillo\n",
            " Recomendaciones Top 10: \n",
            "  Art. 11309744 - Score: 1.5032 | Art. 35084840 - Score: 1.4051 | Art. 78495751 - Score: 1.3935 | Art. 129352635 - Score: 1.3865 | Art. 47269797 - Score: 1.3352 | Art. 147599687 - Score: 1.3262 | Art. 48198999 - Score: 1.3202 | Art. 52746281 - Score: 1.3186 | Art. 52129648 - Score: 1.3071 | Art. 52691543 - Score: 1.3028\n",
            "\n",
            "Usuario: jacksonkrista\n",
            " Recomendaciones Top 10: \n",
            "  Art. 11309744 - Score: 1.6699 | Art. 35084840 - Score: 1.5707 | Art. 78495751 - Score: 1.5592 | Art. 129352635 - Score: 1.5522 | Art. 47269797 - Score: 1.5008 | Art. 147599687 - Score: 1.4919 | Art. 48198999 - Score: 1.4859 | Art. 52746281 - Score: 1.4843 | Art. 52129648 - Score: 1.4727 | Art. 52691543 - Score: 1.4684\n"
          ]
        }
      ],
      "source": [
        "top_k = 10\n",
        "user_scores = {}\n",
        "\n",
        "with open(predict_path) as f_in, open(result_path) as f_out:\n",
        "    for user_line, score_line in zip(f_in, f_out):\n",
        "        parts = user_line.strip().split()\n",
        "        user = parts[1]\n",
        "        item_id = parts[2]\n",
        "        score = float(score_line.strip())\n",
        "\n",
        "        if user not in user_scores:\n",
        "            user_scores[user] = []\n",
        "\n",
        "        user_scores[user].append((item_id, score))\n",
        "\n",
        "# Crear diccionario con solo los top_k ítems por usuario\n",
        "top_user_scores = {\n",
        "    user: sorted(scores, key=lambda x: x[1], reverse=True)[:top_k]\n",
        "    for user, scores in user_scores.items()\n",
        "}\n",
        "\n",
        "# Mostrar los top_k ítems por usuario\n",
        "for user, scores in top_user_scores.items():\n",
        "    print(f\"\\nUsuario: {user}\")\n",
        "    recommended_articles = [f\"Art. {item_id} - Score: {score:.4f}\" for item_id, score in scores]\n",
        "    print(f\" Recomendaciones Top {top_k}: \")\n",
        "    print(\"  \" + \" | \".join(recommended_articles))"
      ]
    },
    {
      "cell_type": "markdown",
      "metadata": {
        "id": "706E4MhAiMFu"
      },
      "source": [
        "### Interfaz"
      ]
    },
    {
      "cell_type": "code",
      "execution_count": null,
      "metadata": {
        "id": "ngUxpGxuiqCQ"
      },
      "outputs": [],
      "source": [
        "import pandas as pd\n",
        "import requests\n",
        "import gradio as gr\n",
        "\n",
        "# Cargamos los artículos del dataset\n",
        "articles = {\n",
        "    str(row[\"core_id\"]): {\n",
        "        \"doi\": row[\"doi\"],\n",
        "        \"title\": row[\"original_title\"],\n",
        "        \"abstract\": row[\"original_abstract\"] or \"No disponible\",\n",
        "        \"authors\": row.get(\"authors\", \"Desconocido\"),\n",
        "        \"year\": row.get(\"year\", \"Desconocido\"),\n",
        "        \"doi_link\": f\"https://doi.org/{row['doi']}\"\n",
        "    }\n",
        "    for _, row in df.iterrows()\n",
        "}\n",
        "\n",
        "# Función para obtener información usando Crossref\n",
        "def get_article_info_from_crossref(doi):\n",
        "    try:\n",
        "        url = f\"https://api.crossref.org/works/{doi}\"\n",
        "        response = requests.get(url, timeout=10)\n",
        "        response.raise_for_status()\n",
        "        msg = response.json()['message']\n",
        "        authors = \", \".join(f\"{a.get('given', '')} {a.get('family', '')}\" for a in msg.get('author', []))\n",
        "        title = msg.get('title', [''])[0]\n",
        "        abstract = msg.get('abstract', '')\n",
        "        year = msg.get('published-print', msg.get('published-online', {})).get('date-parts', [[None]])[0][0]\n",
        "        return {\n",
        "            \"title\": title,\n",
        "            \"authors\": authors,\n",
        "            \"abstract\": abstract,\n",
        "            \"year\": year,\n",
        "            \"doi_link\": f\"https://doi.org/{doi}\"\n",
        "        }\n",
        "    except Exception as e:\n",
        "        return None\n",
        "\n",
        "# Función para cargar y actualizar la información de los artículos\n",
        "def load_articles_info(top_user_scores):\n",
        "    # Obtener todos los item_ids únicos\n",
        "    unique_item_ids = set(item_id for user_items in top_user_scores.values() for item_id, _ in user_items)\n",
        "\n",
        "    enriched_articles = {}\n",
        "    for item_id in unique_item_ids:\n",
        "        dataset_article = articles.get(item_id)\n",
        "        if dataset_article:\n",
        "            crossref_info = get_article_info_from_crossref(dataset_article[\"doi\"])\n",
        "            if crossref_info:\n",
        "                # Combinar campo por campo: usar Crossref si existe, si no, usar dataset\n",
        "                combined_info = {\n",
        "                    \"title\": crossref_info.get(\"title\") or dataset_article.get(\"title\", \"No disponible\"),\n",
        "                    \"authors\": crossref_info.get(\"authors\") or dataset_article.get(\"authors\", \"Desconocido\"),\n",
        "                    \"abstract\": crossref_info.get(\"abstract\") or dataset_article.get(\"abstract\", \"No disponible\"),\n",
        "                    \"year\": crossref_info.get(\"year\") or dataset_article.get(\"year\", \"Desconocido\"),\n",
        "                    \"doi_link\": crossref_info.get(\"doi_link\") or dataset_article.get(\"doi_link\")\n",
        "                }\n",
        "            else:\n",
        "                # Si no hay Crossref, usamos sólo el dataset\n",
        "                combined_info = dataset_article\n",
        "            enriched_articles[item_id] = combined_info\n",
        "    return enriched_articles\n",
        "\n",
        "# Precargamos la información de los artículos\n",
        "enriched_articles = load_articles_info(top_user_scores)"
      ]
    },
    {
      "cell_type": "code",
      "execution_count": null,
      "metadata": {
        "id": "EeKnn8Rguvrb",
        "colab": {
          "base_uri": "https://localhost:8080/",
          "height": 704
        },
        "outputId": "c0eb165c-5ddc-4474-a6ba-d242759a1b4b"
      },
      "outputs": [
        {
          "output_type": "stream",
          "name": "stdout",
          "text": [
            "It looks like you are running Gradio on a hosted a Jupyter notebook. For the Gradio app to work, sharing must be enabled. Automatically setting `share=True` (you can turn this off by setting `share=False` in `launch()` explicitly).\n",
            "\n",
            "Colab notebook detected. This cell will run indefinitely so that you can see errors and logs. To turn off, set debug=False in launch().\n",
            "* Running on public URL: https://f67882cef48b6196c6.gradio.live\n",
            "\n",
            "This share link expires in 1 week. For free permanent hosting and GPU upgrades, run `gradio deploy` from the terminal in the working directory to deploy to Hugging Face Spaces (https://huggingface.co/spaces)\n"
          ]
        },
        {
          "output_type": "display_data",
          "data": {
            "text/plain": [
              "<IPython.core.display.HTML object>"
            ],
            "text/html": [
              "<div><iframe src=\"https://f67882cef48b6196c6.gradio.live\" width=\"100%\" height=\"500\" allow=\"autoplay; camera; microphone; clipboard-read; clipboard-write;\" frameborder=\"0\" allowfullscreen></iframe></div>"
            ]
          },
          "metadata": {}
        },
        {
          "output_type": "stream",
          "name": "stdout",
          "text": [
            "Created dataset file at: .gradio/flagged/dataset1.csv\n",
            "Keyboard interruption in main thread... closing server.\n",
            "Killing tunnel 127.0.0.1:7860 <> https://f67882cef48b6196c6.gradio.live\n"
          ]
        },
        {
          "output_type": "execute_result",
          "data": {
            "text/plain": []
          },
          "metadata": {},
          "execution_count": 11
        }
      ],
      "source": [
        "# Función principal para mostrar resultados\n",
        "def recommend_articles(user):\n",
        "    if user not in user_scores:\n",
        "        return f\"No hay recomendaciones para {user}\", []\n",
        "\n",
        "    top_items = sorted(top_user_scores[user], key=lambda x: x[1], reverse=True)[:top_k]\n",
        "    recommendations = []\n",
        "\n",
        "    for item_id, score in top_items:\n",
        "        article = enriched_articles.get(item_id)\n",
        "        if article:\n",
        "            entry = f\"\"\"\n",
        "            <div style=\"border:1px solid #ccc; padding:10px; border-radius:10px; margin-bottom:15px;\">\n",
        "                <h3>{article['title']} ({article['year']})</h3>\n",
        "                <p><b>Autores:</b> {article['authors']}</p>\n",
        "                <p><b>Abstract:</b> {article['abstract']}</p>\n",
        "                <p><b>Score:</b> {score:.4f}</p>\n",
        "                <a href=\"{article['doi_link']}\" target=\"_blank\">\n",
        "                    <button style=\"padding:5px 10px; background:#007bff; color:white; border:none; border-radius:5px;\">\n",
        "                        Ver artículo\n",
        "                    </button>\n",
        "                </a>\n",
        "            </div>\n",
        "            \"\"\"\n",
        "            recommendations.append(entry)\n",
        "\n",
        "    return f\"Top {top_k} recomendaciones para el usuario {user}:\", \"\\n\".join(recommendations)\n",
        "\n",
        "# Interfaz con Gradio\n",
        "users = sorted(user_scores.keys())\n",
        "\n",
        "interface = gr.Interface(\n",
        "    fn=recommend_articles,\n",
        "    inputs=gr.Dropdown(choices=users, label=\"Selecciona un usuario\"),\n",
        "    outputs=[\n",
        "        gr.Textbox(label=\"Resumen\"),\n",
        "        gr.HTML(label=\"Artículos recomendados\")\n",
        "    ],\n",
        "    title=\"Recomendador de artículos científicos\",\n",
        "    description=\"Selecciona un usuario para ver sus artículos recomendados con detalles enriquecidos desde Crossref.\"\n",
        ")\n",
        "\n",
        "interface.launch(debug=True)"
      ]
    }
  ],
  "metadata": {
    "colab": {
      "provenance": [],
      "mount_file_id": "10DHHiubg4ydngWsNfmTrUb8rKd11HLBd",
      "authorship_tag": "ABX9TyPuOTCJAB5xpWzm3/KooRqm",
      "include_colab_link": true
    },
    "kernelspec": {
      "display_name": "Python 3",
      "name": "python3"
    },
    "language_info": {
      "name": "python"
    }
  },
  "nbformat": 4,
  "nbformat_minor": 0
}